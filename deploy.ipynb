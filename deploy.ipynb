{
  "nbformat": 4,
  "nbformat_minor": 0,
  "metadata": {
    "colab": {
      "provenance": [],
      "authorship_tag": "ABX9TyP7/Cxd4lGflDwZJ1fEcwn8",
      "include_colab_link": true
    },
    "kernelspec": {
      "name": "python3",
      "display_name": "Python 3"
    },
    "language_info": {
      "name": "python"
    }
  },
  "cells": [
    {
      "cell_type": "markdown",
      "metadata": {
        "id": "view-in-github",
        "colab_type": "text"
      },
      "source": [
        "<a href=\"https://colab.research.google.com/github/benjaminbrown038/Hugging-Face/blob/main/deploy.ipynb\" target=\"_parent\"><img src=\"https://colab.research.google.com/assets/colab-badge.svg\" alt=\"Open In Colab\"/></a>"
      ]
    },
    {
      "cell_type": "markdown",
      "source": [
        "# Hugging Face Running Training on Amazon Sagemaker"
      ],
      "metadata": {
        "id": "fW4ogErF808P"
      }
    },
    {
      "cell_type": "markdown",
      "source": [
        "\n",
        "*   [Install and setup your training environment.]\n",
        "*   Prepare a training script.\n",
        "*   Create a Hugging Face Estimator.\n",
        "*   Run training with the fit method.\n",
        "*   Access your trained model.\n",
        "*   Perform distributed training.\n",
        "*   Create a spot instance.\n",
        "*   Load a training script from a GitHub repository.\n",
        "*   Collect training metrics."
      ],
      "metadata": {
        "id": "4A3UqPiX83Gx"
      }
    },
    {
      "cell_type": "markdown",
      "source": [],
      "metadata": {
        "id": "y60KEz_g83J2"
      }
    },
    {
      "cell_type": "markdown",
      "source": [],
      "metadata": {
        "id": "VuGRlPlY83Mc"
      }
    },
    {
      "cell_type": "markdown",
      "source": [],
      "metadata": {
        "id": "QZJwB3na83Pm"
      }
    },
    {
      "cell_type": "markdown",
      "source": [],
      "metadata": {
        "id": "MQY4SQxF83R6"
      }
    },
    {
      "cell_type": "code",
      "source": [],
      "metadata": {
        "id": "qTa5g6AA81CL"
      },
      "execution_count": null,
      "outputs": []
    },
    {
      "cell_type": "markdown",
      "source": [],
      "metadata": {
        "id": "pi2QU2Ko81IL"
      }
    },
    {
      "cell_type": "code",
      "source": [],
      "metadata": {
        "id": "fnPw0DrX81N5"
      },
      "execution_count": null,
      "outputs": []
    },
    {
      "cell_type": "markdown",
      "source": [],
      "metadata": {
        "id": "wZOOvEc381T5"
      }
    },
    {
      "cell_type": "code",
      "source": [],
      "metadata": {
        "id": "oyseHf-881ZX"
      },
      "execution_count": null,
      "outputs": []
    },
    {
      "cell_type": "markdown",
      "source": [],
      "metadata": {
        "id": "wWV63K-j81f4"
      }
    },
    {
      "cell_type": "code",
      "source": [],
      "metadata": {
        "id": "H5FiKb6j81lm"
      },
      "execution_count": null,
      "outputs": []
    },
    {
      "cell_type": "markdown",
      "source": [],
      "metadata": {
        "id": "kIc5F9kT81r2"
      }
    },
    {
      "cell_type": "code",
      "source": [],
      "metadata": {
        "id": "bdYTzmjM81x1"
      },
      "execution_count": null,
      "outputs": []
    },
    {
      "cell_type": "markdown",
      "source": [],
      "metadata": {
        "id": "jny0IyZ9814G"
      }
    },
    {
      "cell_type": "code",
      "source": [],
      "metadata": {
        "id": "otAauke-81-W"
      },
      "execution_count": null,
      "outputs": []
    }
  ]
}