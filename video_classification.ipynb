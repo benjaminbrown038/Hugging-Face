{
  "nbformat": 4,
  "nbformat_minor": 0,
  "metadata": {
    "colab": {
      "provenance": [],
      "authorship_tag": "ABX9TyMbzf2Oi4GizziihdUbnsNb",
      "include_colab_link": true
    },
    "kernelspec": {
      "name": "python3",
      "display_name": "Python 3"
    },
    "language_info": {
      "name": "python"
    }
  },
  "cells": [
    {
      "cell_type": "markdown",
      "metadata": {
        "id": "view-in-github",
        "colab_type": "text"
      },
      "source": [
        "<a href=\"https://colab.research.google.com/github/benjaminbrown038/Hugging-Face/blob/main/video_classification.ipynb\" target=\"_parent\"><img src=\"https://colab.research.google.com/assets/colab-badge.svg\" alt=\"Open In Colab\"/></a>"
      ]
    },
    {
      "cell_type": "markdown",
      "source": [
        "# Hugging Face Video Classification"
      ],
      "metadata": {
        "id": "9k54J3lcrGLy"
      }
    },
    {
      "cell_type": "markdown",
      "source": [],
      "metadata": {
        "id": "2j4_jMsRHN4b"
      }
    },
    {
      "cell_type": "code",
      "source": [
        "%%capture\n",
        "!pip3 install pytorchvideo transformers evaluate"
      ],
      "metadata": {
        "id": "YNPieMyRHN-Y"
      },
      "execution_count": 5,
      "outputs": []
    },
    {
      "cell_type": "markdown",
      "source": [],
      "metadata": {
        "id": "nrUYiP_DHOD2"
      }
    },
    {
      "cell_type": "code",
      "source": [
        "%%capture\n",
        "from huggingface_hub import notebook_login, hf_hub_download\n",
        "import tarfile\n",
        "from transformers import VideoMAEImageProcessor, VideoMAEForVideoClassification, TrainingArguments, Trainer, pipeline\n",
        "import pytorchvideo.data\n",
        "from pytorchvideo.transforms import ApplyTransformToKey, Normalize, RandomShortSideScale, RemoveKey, ShortSideScale, UniformTemporalSubsample\n",
        "from torchvision.transforms import Compose, Lambda, RandomCrop, RandomHorizontalFlip, Resize\n",
        "import imageio\n",
        "import numpy as np\n",
        "from IPython.display import Image\n",
        "import evaluate\n"
      ],
      "metadata": {
        "id": "logVeQAVHOJ2"
      },
      "execution_count": 4,
      "outputs": []
    },
    {
      "cell_type": "markdown",
      "source": [],
      "metadata": {
        "id": "iKhGSwQetEku"
      }
    },
    {
      "cell_type": "code",
      "source": [],
      "metadata": {
        "id": "hSsuzacytErM"
      },
      "execution_count": null,
      "outputs": []
    },
    {
      "cell_type": "markdown",
      "source": [],
      "metadata": {
        "id": "hSqlx9aYtE15"
      }
    },
    {
      "cell_type": "code",
      "source": [],
      "metadata": {
        "id": "w5coCyW-tE9K"
      },
      "execution_count": null,
      "outputs": []
    },
    {
      "cell_type": "markdown",
      "source": [],
      "metadata": {
        "id": "9CuAqrBttFDt"
      }
    },
    {
      "cell_type": "code",
      "source": [],
      "metadata": {
        "id": "qhsUotMGtFJ7"
      },
      "execution_count": null,
      "outputs": []
    },
    {
      "cell_type": "markdown",
      "source": [],
      "metadata": {
        "id": "hWdlLNtFtFQb"
      }
    },
    {
      "cell_type": "code",
      "source": [],
      "metadata": {
        "id": "2nR15vPLtFXP"
      },
      "execution_count": null,
      "outputs": []
    },
    {
      "cell_type": "markdown",
      "source": [],
      "metadata": {
        "id": "M4gL6AnrtFdN"
      }
    },
    {
      "cell_type": "code",
      "source": [],
      "metadata": {
        "id": "nW_ATSKMtFjM"
      },
      "execution_count": null,
      "outputs": []
    },
    {
      "cell_type": "code",
      "source": [],
      "metadata": {
        "id": "J4D5mef7sxKy"
      },
      "execution_count": null,
      "outputs": []
    }
  ]
}