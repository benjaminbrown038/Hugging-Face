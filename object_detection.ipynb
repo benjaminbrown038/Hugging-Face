{
  "nbformat": 4,
  "nbformat_minor": 0,
  "metadata": {
    "colab": {
      "provenance": [],
      "authorship_tag": "ABX9TyM6Het9EqA0Z9B6s8NEq9Bg",
      "include_colab_link": true
    },
    "kernelspec": {
      "name": "python3",
      "display_name": "Python 3"
    },
    "language_info": {
      "name": "python"
    }
  },
  "cells": [
    {
      "cell_type": "markdown",
      "metadata": {
        "id": "view-in-github",
        "colab_type": "text"
      },
      "source": [
        "<a href=\"https://colab.research.google.com/github/benjaminbrown038/Hugging-Face/blob/main/object_detection.ipynb\" target=\"_parent\"><img src=\"https://colab.research.google.com/assets/colab-badge.svg\" alt=\"Open In Colab\"/></a>"
      ]
    },
    {
      "cell_type": "markdown",
      "source": [
        "## Hugging Face Object Detection Notebook"
      ],
      "metadata": {
        "id": "o13xrL4K7-Gh"
      }
    },
    {
      "cell_type": "markdown",
      "source": [
        "[Imports](#imports)\n",
        "\n",
        "[Data](#data)"
      ],
      "metadata": {
        "id": "E0yIlYFa7-JF"
      }
    },
    {
      "cell_type": "markdown",
      "source": [],
      "metadata": {
        "id": "n5u0jRuZ7-NP"
      }
    },
    {
      "cell_type": "markdown",
      "source": [],
      "metadata": {
        "id": "WiO8Wt6h78rH"
      }
    },
    {
      "cell_type": "code",
      "source": [],
      "metadata": {
        "id": "TrOJ3ElY78xm"
      },
      "execution_count": null,
      "outputs": []
    },
    {
      "cell_type": "markdown",
      "source": [
        "##### Imports \n",
        "<a name=\"imports\"></a>"
      ],
      "metadata": {
        "id": "SdoGBLy6783U"
      }
    },
    {
      "cell_type": "code",
      "source": [],
      "metadata": {
        "id": "J3b_EhSS788P"
      },
      "execution_count": null,
      "outputs": []
    },
    {
      "cell_type": "markdown",
      "source": [
        "#### Food Data "
      ],
      "metadata": {
        "id": "27BUjXQv79Bx"
      }
    },
    {
      "cell_type": "markdown",
      "source": [
        "##### Data\n",
        "<a name=\"data\"></a>"
      ],
      "metadata": {
        "id": "zFbsZR568M20"
      }
    },
    {
      "cell_type": "code",
      "source": [],
      "metadata": {
        "id": "fWNtruGO79G8"
      },
      "execution_count": null,
      "outputs": []
    },
    {
      "cell_type": "markdown",
      "source": [],
      "metadata": {
        "id": "hbEcr_x579M8"
      }
    },
    {
      "cell_type": "code",
      "source": [],
      "metadata": {
        "id": "be3ar0xa79Sq"
      },
      "execution_count": null,
      "outputs": []
    },
    {
      "cell_type": "markdown",
      "source": [],
      "metadata": {
        "id": "hgOg4CKS79aO"
      }
    }
  ]
}