{
  "nbformat": 4,
  "nbformat_minor": 0,
  "metadata": {
    "colab": {
      "provenance": [],
      "authorship_tag": "ABX9TyO9amv4WUzcQfpQ81L5hTid",
      "include_colab_link": true
    },
    "kernelspec": {
      "name": "python3",
      "display_name": "Python 3"
    },
    "language_info": {
      "name": "python"
    }
  },
  "cells": [
    {
      "cell_type": "markdown",
      "metadata": {
        "id": "view-in-github",
        "colab_type": "text"
      },
      "source": [
        "<a href=\"https://colab.research.google.com/github/benjaminbrown038/Hugging-Face/blob/main/deploy.ipynb\" target=\"_parent\"><img src=\"https://colab.research.google.com/assets/colab-badge.svg\" alt=\"Open In Colab\"/></a>"
      ]
    },
    {
      "cell_type": "markdown",
      "source": [
        "# Hugging Face Running Training on Amazon Sagemaker"
      ],
      "metadata": {
        "id": "fW4ogErF808P"
      }
    },
    {
      "cell_type": "markdown",
      "source": [
        "[Imports](#imports)\n",
        "\n",
        "[Data](#data)"
      ],
      "metadata": {
        "id": "g3bouAn0_fAY"
      }
    },
    {
      "cell_type": "markdown",
      "source": [
        "### Sagemaker Specific Instructions\n",
        "\n",
        "*   **Install and setup your training environment.**\n",
        "*   **Prepare a training script.**\n",
        "*   **Create a Hugging Face Estimator.**\n",
        "*   **Run training with the fit method.**\n",
        "*   **Access your trained model.**\n",
        "*   **Perform distributed training.**\n",
        "*   **Create a spot instance.**\n",
        "*   **Load a training script from a GitHub repository.**\n",
        "*   **Collect training metrics.**"
      ],
      "metadata": {
        "id": "4A3UqPiX83Gx"
      }
    },
    {
      "cell_type": "markdown",
      "source": [],
      "metadata": {
        "id": "y60KEz_g83J2"
      }
    },
    {
      "cell_type": "markdown",
      "source": [],
      "metadata": {
        "id": "VuGRlPlY83Mc"
      }
    },
    {
      "cell_type": "markdown",
      "source": [],
      "metadata": {
        "id": "QZJwB3na83Pm"
      }
    },
    {
      "cell_type": "markdown",
      "source": [
        "##### Imports \n",
        "<a name=\"imports\"></a>"
      ],
      "metadata": {
        "id": "MQY4SQxF83R6"
      }
    },
    {
      "cell_type": "code",
      "source": [
        "%%capture\n",
        "!pip3 install sagemaker\n",
        "import sagemaker\n",
        "import boto3\n",
        "import transforms \n",
        "import datasets\n",
        "import argparse\n",
        "import os\n",
        "from sagemaker.hugginface import HuggingFace\n",
        "from sagemaker.s3 import S3Downloader\n"
      ],
      "metadata": {
        "id": "qTa5g6AA81CL",
        "outputId": "39e88061-b083-438a-f092-4fd4d33aca83",
        "colab": {
          "base_uri": "https://localhost:8080/",
          "height": 454
        }
      },
      "execution_count": 1,
      "outputs": [
        {
          "output_type": "error",
          "ename": "ModuleNotFoundError",
          "evalue": "ignored",
          "traceback": [
            "\u001b[0;31m---------------------------------------------------------------------------\u001b[0m",
            "\u001b[0;31mModuleNotFoundError\u001b[0m                       Traceback (most recent call last)",
            "\u001b[0;32m<ipython-input-1-6a6e9dbcce27>\u001b[0m in \u001b[0;36m<cell line: 4>\u001b[0;34m()\u001b[0m\n\u001b[1;32m      2\u001b[0m \u001b[0;32mimport\u001b[0m \u001b[0msagemaker\u001b[0m\u001b[0;34m\u001b[0m\u001b[0;34m\u001b[0m\u001b[0m\n\u001b[1;32m      3\u001b[0m \u001b[0;32mimport\u001b[0m \u001b[0mboto3\u001b[0m\u001b[0;34m\u001b[0m\u001b[0;34m\u001b[0m\u001b[0m\n\u001b[0;32m----> 4\u001b[0;31m \u001b[0;32mimport\u001b[0m \u001b[0mtransforms\u001b[0m\u001b[0;34m\u001b[0m\u001b[0;34m\u001b[0m\u001b[0m\n\u001b[0m\u001b[1;32m      5\u001b[0m \u001b[0;32mimport\u001b[0m \u001b[0mdatasets\u001b[0m\u001b[0;34m\u001b[0m\u001b[0;34m\u001b[0m\u001b[0m\n\u001b[1;32m      6\u001b[0m \u001b[0;32mimport\u001b[0m \u001b[0margparse\u001b[0m\u001b[0;34m\u001b[0m\u001b[0;34m\u001b[0m\u001b[0m\n",
            "\u001b[0;31mModuleNotFoundError\u001b[0m: No module named 'transforms'",
            "",
            "\u001b[0;31m---------------------------------------------------------------------------\u001b[0;32m\nNOTE: If your import is failing due to a missing package, you can\nmanually install dependencies using either !pip or !apt.\n\nTo view examples of installing some common dependencies, click the\n\"Open Examples\" button below.\n\u001b[0;31m---------------------------------------------------------------------------\u001b[0m\n"
          ],
          "errorDetails": {
            "actions": [
              {
                "action": "open_url",
                "actionText": "Open Examples",
                "url": "/notebooks/snippets/importing_libraries.ipynb"
              }
            ]
          }
        }
      ]
    },
    {
      "cell_type": "markdown",
      "source": [
        "##### Data \n",
        "<a name=\"data\"></a>"
      ],
      "metadata": {
        "id": "pi2QU2Ko81IL"
      }
    },
    {
      "cell_type": "code",
      "source": [],
      "metadata": {
        "id": "fnPw0DrX81N5"
      },
      "execution_count": null,
      "outputs": []
    },
    {
      "cell_type": "markdown",
      "source": [],
      "metadata": {
        "id": "wZOOvEc381T5"
      }
    },
    {
      "cell_type": "code",
      "source": [],
      "metadata": {
        "id": "oyseHf-881ZX"
      },
      "execution_count": null,
      "outputs": []
    },
    {
      "cell_type": "markdown",
      "source": [],
      "metadata": {
        "id": "wWV63K-j81f4"
      }
    },
    {
      "cell_type": "code",
      "source": [],
      "metadata": {
        "id": "H5FiKb6j81lm"
      },
      "execution_count": null,
      "outputs": []
    },
    {
      "cell_type": "markdown",
      "source": [],
      "metadata": {
        "id": "kIc5F9kT81r2"
      }
    },
    {
      "cell_type": "code",
      "source": [],
      "metadata": {
        "id": "bdYTzmjM81x1"
      },
      "execution_count": null,
      "outputs": []
    },
    {
      "cell_type": "markdown",
      "source": [],
      "metadata": {
        "id": "jny0IyZ9814G"
      }
    },
    {
      "cell_type": "code",
      "source": [],
      "metadata": {
        "id": "otAauke-81-W"
      },
      "execution_count": null,
      "outputs": []
    },
    {
      "cell_type": "markdown",
      "source": [],
      "metadata": {
        "id": "n4wFNBoZBYSJ"
      }
    },
    {
      "cell_type": "code",
      "source": [],
      "metadata": {
        "id": "UjssSZFhBYYa"
      },
      "execution_count": null,
      "outputs": []
    },
    {
      "cell_type": "markdown",
      "source": [],
      "metadata": {
        "id": "ilEgy6AOBYd3"
      }
    },
    {
      "cell_type": "code",
      "source": [],
      "metadata": {
        "id": "8k3NjbJbBYjV"
      },
      "execution_count": null,
      "outputs": []
    },
    {
      "cell_type": "markdown",
      "source": [],
      "metadata": {
        "id": "uqZ1ckUwBYo0"
      }
    },
    {
      "cell_type": "code",
      "source": [],
      "metadata": {
        "id": "zwd6O3z3BYuh"
      },
      "execution_count": null,
      "outputs": []
    },
    {
      "cell_type": "markdown",
      "source": [],
      "metadata": {
        "id": "vZspjwybBY0i"
      }
    },
    {
      "cell_type": "code",
      "source": [],
      "metadata": {
        "id": "UHWiL6u9BY6P"
      },
      "execution_count": null,
      "outputs": []
    },
    {
      "cell_type": "markdown",
      "source": [],
      "metadata": {
        "id": "wT-bu2TQBZAO"
      }
    },
    {
      "cell_type": "code",
      "source": [],
      "metadata": {
        "id": "AEwRMDeyBZMO"
      },
      "execution_count": null,
      "outputs": []
    },
    {
      "cell_type": "markdown",
      "source": [
        "## Deploying\n",
        "\n",
        "##### Deployment Specific Instructions\n",
        "\n",
        "*   **Install and setup the Inference Toolkit.**\n",
        "*   **Deploy a 🤗 Transformers model trained in SageMaker.**\n",
        "*   **Deploy a 🤗 Transformers model from the Hugging Face.**\n",
        "*   **Run a Batch Transform Job using 🤗 Transformers and Amazon SageMaker.**\n",
        "*   **Create a custom inference module.**\n",
        "\n",
        "\n",
        "\n",
        "Model Artifact\n"
      ],
      "metadata": {
        "id": "4fhStA27BZR7"
      }
    },
    {
      "cell_type": "markdown",
      "source": [
        "[Imports](#imports)\n",
        "\n",
        "[Data](#data)"
      ],
      "metadata": {
        "id": "Bhoeu7DKBdbD"
      }
    },
    {
      "cell_type": "markdown",
      "source": [
        "##### Imports \n",
        "<a name=\"imports\"></a>"
      ],
      "metadata": {
        "id": "2OVlssVPBdeb"
      }
    },
    {
      "cell_type": "code",
      "source": [
        "from sagemaker.hugginface import HuggingFaceModel\n",
        "\n"
      ],
      "metadata": {
        "id": "0TzCnne6BZX7"
      },
      "execution_count": null,
      "outputs": []
    },
    {
      "cell_type": "markdown",
      "source": [],
      "metadata": {
        "id": "OZO6IjIpBZdq"
      }
    },
    {
      "cell_type": "markdown",
      "source": [],
      "metadata": {
        "id": "7NG08ZZCBoO_"
      }
    },
    {
      "cell_type": "code",
      "source": [],
      "metadata": {
        "id": "zdUO1Dv5BZjI"
      },
      "execution_count": null,
      "outputs": []
    },
    {
      "cell_type": "markdown",
      "source": [
        "##### Data \n",
        "<a name=\"data\"></a>"
      ],
      "metadata": {
        "id": "-bWpFn5uBZoV"
      }
    },
    {
      "cell_type": "code",
      "source": [],
      "metadata": {
        "id": "Iby-1l-yBZty"
      },
      "execution_count": null,
      "outputs": []
    }
  ]
}