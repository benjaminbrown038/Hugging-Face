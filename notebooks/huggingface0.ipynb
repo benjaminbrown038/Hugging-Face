{
  "nbformat": 4,
  "nbformat_minor": 0,
  "metadata": {
    "colab": {
      "provenance": [],
      "authorship_tag": "ABX9TyMcmwPp6550xCH2dvORTfhN",
      "include_colab_link": true
    },
    "kernelspec": {
      "name": "python3",
      "display_name": "Python 3"
    },
    "language_info": {
      "name": "python"
    }
  },
  "cells": [
    {
      "cell_type": "markdown",
      "metadata": {
        "id": "view-in-github",
        "colab_type": "text"
      },
      "source": [
        "<a href=\"https://colab.research.google.com/github/benjaminbrown038/Hugging-Face/blob/main/notebooks/huggingface0.ipynb\" target=\"_parent\"><img src=\"https://colab.research.google.com/assets/colab-badge.svg\" alt=\"Open In Colab\"/></a>"
      ]
    },
    {
      "cell_type": "markdown",
      "source": [
        "# Different Applications in Huggingface\n",
        "\n",
        "[Imports](#imports)\n",
        "\n",
        "  -\n",
        "  -\n",
        "\n",
        "[Data Augmentation](#data)\n",
        "\n",
        "  -\n",
        "  -\n",
        "\n",
        "[Image Classification](#classification)\n",
        "\n",
        "  -\n",
        "  -\n",
        "\n",
        "[Semantic Segmentation](#object-detection)\n",
        "\n",
        "  -\n",
        "  -\n",
        "\n",
        "[Video Classification](#video-classification)\n",
        "\n",
        "  -\n",
        "  -\n",
        "\n",
        "[Zero Shot Object Detection](#detect)\n",
        "\n",
        "  -\n",
        "  -\n",
        "\n",
        "[Zero Shot Image Classification](#zero-shot)\n",
        "\n",
        "  -\n",
        "  -\n",
        "  "
      ],
      "metadata": {
        "id": "_tESjRswpbzj"
      }
    },
    {
      "cell_type": "markdown",
      "source": [],
      "metadata": {
        "id": "eWc1fCDXpedE"
      }
    },
    {
      "cell_type": "markdown",
      "source": [],
      "metadata": {
        "id": "XW3UecCUpegs"
      }
    },
    {
      "cell_type": "code",
      "source": [],
      "metadata": {
        "id": "2i0_Zox_pc5E"
      },
      "execution_count": null,
      "outputs": []
    },
    {
      "cell_type": "markdown",
      "source": [
        "## Image Classification\n",
        "<a id='classification'></a>"
      ],
      "metadata": {
        "id": "OcnRKmNySx9d"
      }
    },
    {
      "cell_type": "markdown",
      "source": [],
      "metadata": {
        "id": "I9E15XXZTVGr"
      }
    },
    {
      "cell_type": "markdown",
      "source": [],
      "metadata": {
        "id": "HZGo2Vo1TVJg"
      }
    },
    {
      "cell_type": "code",
      "source": [],
      "metadata": {
        "id": "u8hqgXAmSyHW"
      },
      "execution_count": null,
      "outputs": []
    },
    {
      "cell_type": "code",
      "source": [],
      "metadata": {
        "id": "d7ofM73nTWR9"
      },
      "execution_count": null,
      "outputs": []
    },
    {
      "cell_type": "code",
      "source": [],
      "metadata": {
        "id": "KejqY2zcTWVB"
      },
      "execution_count": null,
      "outputs": []
    },
    {
      "cell_type": "markdown",
      "source": [
        "## Semantic Segmentation\n",
        "<a id='object-detection'></a>\n"
      ],
      "metadata": {
        "id": "YOGOVSElSyMy"
      }
    },
    {
      "cell_type": "markdown",
      "source": [],
      "metadata": {
        "id": "DsxWDU1-TXEt"
      }
    },
    {
      "cell_type": "markdown",
      "source": [],
      "metadata": {
        "id": "BETFEiaZTXIF"
      }
    },
    {
      "cell_type": "code",
      "source": [],
      "metadata": {
        "id": "LI70H1C7SySA"
      },
      "execution_count": null,
      "outputs": []
    },
    {
      "cell_type": "code",
      "source": [],
      "metadata": {
        "id": "RrII8beLTX0o"
      },
      "execution_count": null,
      "outputs": []
    },
    {
      "cell_type": "code",
      "source": [],
      "metadata": {
        "id": "vscMAZ0yTX3_"
      },
      "execution_count": null,
      "outputs": []
    },
    {
      "cell_type": "markdown",
      "source": [
        "## Object Detection\n",
        "<a id='object-detection'></a>\n"
      ],
      "metadata": {
        "id": "8VyeB6IVSyW-"
      }
    },
    {
      "cell_type": "markdown",
      "source": [],
      "metadata": {
        "id": "-5nT90k2TYtY"
      }
    },
    {
      "cell_type": "markdown",
      "source": [],
      "metadata": {
        "id": "aKfvztPSTYwf"
      }
    },
    {
      "cell_type": "code",
      "source": [],
      "metadata": {
        "id": "ypWJdp86Sybp"
      },
      "execution_count": null,
      "outputs": []
    },
    {
      "cell_type": "code",
      "source": [],
      "metadata": {
        "id": "yvOsAuJATZiw"
      },
      "execution_count": null,
      "outputs": []
    },
    {
      "cell_type": "code",
      "source": [],
      "metadata": {
        "id": "2zn2sVstTZmb"
      },
      "execution_count": null,
      "outputs": []
    },
    {
      "cell_type": "markdown",
      "source": [
        "## Video Classification\n",
        "<a id='video-classification'></a>\n"
      ],
      "metadata": {
        "id": "hIf6pA-_Sygn"
      }
    },
    {
      "cell_type": "markdown",
      "source": [],
      "metadata": {
        "id": "A_9gkZJETamA"
      }
    },
    {
      "cell_type": "markdown",
      "source": [],
      "metadata": {
        "id": "cf4N8a-rTapl"
      }
    },
    {
      "cell_type": "code",
      "source": [],
      "metadata": {
        "id": "QPuyJcMBSylj"
      },
      "execution_count": null,
      "outputs": []
    },
    {
      "cell_type": "code",
      "source": [],
      "metadata": {
        "id": "qAfrosVrTbdL"
      },
      "execution_count": null,
      "outputs": []
    },
    {
      "cell_type": "code",
      "source": [],
      "metadata": {
        "id": "r_N8n4d3Tbgi"
      },
      "execution_count": null,
      "outputs": []
    },
    {
      "cell_type": "markdown",
      "source": [
        "## Zero-Shot Object Detection\n",
        "<a id='video-classification'></a>\n"
      ],
      "metadata": {
        "id": "hGqwX3_0SyqP"
      }
    },
    {
      "cell_type": "markdown",
      "source": [],
      "metadata": {
        "id": "NgRTOL0STcKf"
      }
    },
    {
      "cell_type": "markdown",
      "source": [],
      "metadata": {
        "id": "hhWwKN3yTcOY"
      }
    },
    {
      "cell_type": "code",
      "source": [],
      "metadata": {
        "id": "APBNT3gOTcs4"
      },
      "execution_count": null,
      "outputs": []
    },
    {
      "cell_type": "code",
      "source": [],
      "metadata": {
        "id": "IlLlqX9nTcwP"
      },
      "execution_count": null,
      "outputs": []
    },
    {
      "cell_type": "code",
      "source": [],
      "metadata": {
        "id": "76AfrPWCSyvb"
      },
      "execution_count": null,
      "outputs": []
    },
    {
      "cell_type": "markdown",
      "source": [
        "## Zero-Shot Image Classification"
      ],
      "metadata": {
        "id": "XkssPIYESy0f"
      }
    },
    {
      "cell_type": "markdown",
      "source": [],
      "metadata": {
        "id": "b926G04NTdih"
      }
    },
    {
      "cell_type": "markdown",
      "source": [],
      "metadata": {
        "id": "o3hewBDZTdln"
      }
    },
    {
      "cell_type": "code",
      "source": [],
      "metadata": {
        "id": "FFVeldmaTd46"
      },
      "execution_count": null,
      "outputs": []
    },
    {
      "cell_type": "code",
      "source": [],
      "metadata": {
        "id": "szSz1jh2Td8i"
      },
      "execution_count": null,
      "outputs": []
    },
    {
      "cell_type": "code",
      "source": [],
      "metadata": {
        "id": "m0G8xht7Sy53"
      },
      "execution_count": null,
      "outputs": []
    },
    {
      "cell_type": "markdown",
      "source": [
        "## CNN Models"
      ],
      "metadata": {
        "id": "rDjy8ljHSy_H"
      }
    },
    {
      "cell_type": "code",
      "source": [],
      "metadata": {
        "id": "ELwniSPRSzDw"
      },
      "execution_count": null,
      "outputs": []
    },
    {
      "cell_type": "code",
      "source": [],
      "metadata": {
        "id": "h5miNvO4TpBa"
      },
      "execution_count": null,
      "outputs": []
    },
    {
      "cell_type": "code",
      "source": [],
      "metadata": {
        "id": "ZrHMjx8LTpEx"
      },
      "execution_count": null,
      "outputs": []
    },
    {
      "cell_type": "markdown",
      "source": [
        "## Image Data"
      ],
      "metadata": {
        "id": "BBrUDHVvTpN6"
      }
    },
    {
      "cell_type": "code",
      "source": [],
      "metadata": {
        "id": "RWOZzJwTTpZ3"
      },
      "execution_count": null,
      "outputs": []
    },
    {
      "cell_type": "code",
      "source": [],
      "metadata": {
        "id": "dOCfqNb8TuXU"
      },
      "execution_count": null,
      "outputs": []
    },
    {
      "cell_type": "code",
      "source": [],
      "metadata": {
        "id": "NSGLJOjCTuas"
      },
      "execution_count": null,
      "outputs": []
    },
    {
      "cell_type": "markdown",
      "source": [
        "## Training Loop"
      ],
      "metadata": {
        "id": "ItJpZfn-Tpfm"
      }
    },
    {
      "cell_type": "code",
      "source": [],
      "metadata": {
        "id": "TaS0IpdCTpkz"
      },
      "execution_count": null,
      "outputs": []
    }
  ]
}