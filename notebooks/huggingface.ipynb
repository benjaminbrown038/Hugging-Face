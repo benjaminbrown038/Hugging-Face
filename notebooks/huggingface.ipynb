{
  "nbformat": 4,
  "nbformat_minor": 0,
  "metadata": {
    "colab": {
      "provenance": [],
      "authorship_tag": "ABX9TyPlHP//KeDlcgp+gwuGtl2w",
      "include_colab_link": true
    },
    "kernelspec": {
      "name": "python3",
      "display_name": "Python 3"
    },
    "language_info": {
      "name": "python"
    }
  },
  "cells": [
    {
      "cell_type": "markdown",
      "metadata": {
        "id": "view-in-github",
        "colab_type": "text"
      },
      "source": [
        "<a href=\"https://colab.research.google.com/github/benjaminbrown038/Hugging-Face/blob/main/notebooks/huggingface.ipynb\" target=\"_parent\"><img src=\"https://colab.research.google.com/assets/colab-badge.svg\" alt=\"Open In Colab\"/></a>"
      ]
    },
    {
      "cell_type": "markdown",
      "source": [
        "# Different Applications in Huggingface\n",
        "\n",
        "[Imports](#imports)\n",
        "\n",
        "  -\n",
        "  -\n",
        "\n",
        "[Data Augmentation](#data)\n",
        "\n",
        "  -\n",
        "  -\n",
        "\n",
        "[Image Classification](#classification)\n",
        "\n",
        "  -\n",
        "  -\n",
        "\n",
        "[Semantic Segmentation](#object-detection)\n",
        "\n",
        "  -\n",
        "  -\n",
        "\n",
        "[Video Classification](#video-classification)\n",
        "\n",
        "  -\n",
        "  -\n",
        "\n",
        "[Zero Shot Object Detection](#detect)\n",
        "\n",
        "  -\n",
        "  -\n",
        "\n",
        "[Zero Shot Image Classification](#zero-shot)\n",
        "\n",
        "  -\n",
        "  -\n",
        "  "
      ],
      "metadata": {
        "id": "_tESjRswpbzj"
      }
    },
    {
      "cell_type": "markdown",
      "source": [
        "## Imports\n",
        "<a id='imports'></a>"
      ],
      "metadata": {
        "id": "eWc1fCDXpedE"
      }
    },
    {
      "cell_type": "code",
      "source": [],
      "metadata": {
        "id": "jVs-4J-xi24k"
      },
      "execution_count": null,
      "outputs": []
    },
    {
      "cell_type": "markdown",
      "source": [
        "## Data\n",
        "<a id='data'></a>"
      ],
      "metadata": {
        "id": "-Ylq7YrXi3Pb"
      }
    },
    {
      "cell_type": "code",
      "source": [],
      "metadata": {
        "id": "0QWkcXi7i3W_"
      },
      "execution_count": null,
      "outputs": []
    },
    {
      "cell_type": "markdown",
      "source": [
        "## Image Classification\n",
        "<a id='classification'></a>"
      ],
      "metadata": {
        "id": "OcnRKmNySx9d"
      }
    },
    {
      "cell_type": "code",
      "source": [],
      "metadata": {
        "id": "KejqY2zcTWVB"
      },
      "execution_count": null,
      "outputs": []
    },
    {
      "cell_type": "markdown",
      "source": [
        "## Semantic Segmentation\n",
        "<a id='object-detection'></a>\n"
      ],
      "metadata": {
        "id": "YOGOVSElSyMy"
      }
    },
    {
      "cell_type": "code",
      "source": [],
      "metadata": {
        "id": "LI70H1C7SySA"
      },
      "execution_count": null,
      "outputs": []
    },
    {
      "cell_type": "markdown",
      "source": [
        "## Object Detection\n",
        "<a id='object-detection'></a>\n"
      ],
      "metadata": {
        "id": "8VyeB6IVSyW-"
      }
    },
    {
      "cell_type": "code",
      "source": [],
      "metadata": {
        "id": "2zn2sVstTZmb"
      },
      "execution_count": null,
      "outputs": []
    },
    {
      "cell_type": "markdown",
      "source": [
        "## Video Classification\n",
        "<a id='video-classification'></a>\n"
      ],
      "metadata": {
        "id": "hIf6pA-_Sygn"
      }
    },
    {
      "cell_type": "code",
      "source": [],
      "metadata": {
        "id": "r_N8n4d3Tbgi"
      },
      "execution_count": null,
      "outputs": []
    },
    {
      "cell_type": "markdown",
      "source": [
        "## Zero-Shot Object Detection\n",
        "<a id='video-classification'></a>\n"
      ],
      "metadata": {
        "id": "hGqwX3_0SyqP"
      }
    },
    {
      "cell_type": "code",
      "source": [],
      "metadata": {
        "id": "76AfrPWCSyvb"
      },
      "execution_count": null,
      "outputs": []
    },
    {
      "cell_type": "markdown",
      "source": [
        "## Zero-Shot Image Classification"
      ],
      "metadata": {
        "id": "XkssPIYESy0f"
      }
    },
    {
      "cell_type": "code",
      "source": [],
      "metadata": {
        "id": "m0G8xht7Sy53"
      },
      "execution_count": null,
      "outputs": []
    },
    {
      "cell_type": "markdown",
      "source": [
        "## CNN Models"
      ],
      "metadata": {
        "id": "rDjy8ljHSy_H"
      }
    },
    {
      "cell_type": "code",
      "source": [],
      "metadata": {
        "id": "ZrHMjx8LTpEx"
      },
      "execution_count": null,
      "outputs": []
    },
    {
      "cell_type": "markdown",
      "source": [
        "## Image Data"
      ],
      "metadata": {
        "id": "BBrUDHVvTpN6"
      }
    },
    {
      "cell_type": "code",
      "source": [],
      "metadata": {
        "id": "RWOZzJwTTpZ3"
      },
      "execution_count": null,
      "outputs": []
    },
    {
      "cell_type": "markdown",
      "source": [
        "## Training Loop"
      ],
      "metadata": {
        "id": "ItJpZfn-Tpfm"
      }
    },
    {
      "cell_type": "code",
      "source": [],
      "metadata": {
        "id": "TaS0IpdCTpkz"
      },
      "execution_count": null,
      "outputs": []
    }
  ]
}